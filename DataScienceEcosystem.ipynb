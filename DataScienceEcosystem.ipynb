{
 "cells": [
  {
   "cell_type": "markdown",
   "metadata": {},
   "source": [
    "<center>\n",
    "    <img src=\"https://cf-courses-data.s3.us.cloud-object-storage.appdomain.cloud/IBMDeveloperSkillsNetwork-DS0105EN-SkillsNetwork/labs/Module2/images/SN_web_lightmode.png\" width=\"300\" alt=\"cognitiveclass.ai logo\">\n",
    "</center>\n"
   ]
  },
  {
   "cell_type": "markdown",
   "metadata": {},
   "source": [
    "#### Add your code below following the instructions given in the course\n"
   ]
  },
  {
   "cell_type": "markdown",
   "metadata": {},
   "source": [
    "Data Science and Ecosystem"
   ]
  },
  {
   "cell_type": "markdown",
   "metadata": {},
   "source": [
    "In this project Data Science tools and Ecosystem are recalled and some popular languages and Libraries are listed."
   ]
  },
  {
   "cell_type": "markdown",
   "metadata": {},
   "source": [
    "some popular languages for Data Scientists:\n",
    "\n",
    "    1.Python\n",
    "    2.R\n",
    "    3.c/c++\n",
    "    4.java\n",
    "    5.JavaScript\n",
    "    6.SQL\n"
   ]
  },
  {
   "cell_type": "markdown",
   "metadata": {},
   "source": [
    "Libraries that are commonly used by Data Scientists:\n",
    "    \n",
    "    1.pandas\n",
    "    2.Matplotlib\n",
    "    3.TensorFlow\n",
    "    4.NumPy\n",
    "    5.PyTorch\n",
    "    6.SciKit-Learn\n",
    "    7.Chainer\n",
    "    8.Caffe2\n",
    "    9.Scrapy\n",
    "    10.LightGBM\n",
    "    11.ELI5\n",
    "    12.PyBrain\n",
    "    13.Bob\n",
    "    14.Keras\n",
    "    15.BeautifulSoup\n",
    "    16.Theano\n",
    "    17.Pipenv\n",
    "    18.Ramp\n",
    "    19.SciPy\n",
    "    20.NuPIC\n",
    "    \n",
    "    "
   ]
  },
  {
   "cell_type": "markdown",
   "metadata": {},
   "source": [
    "Data Science Tools:\n",
    "\n",
    "    Tools:\n",
    "    SAS - It is specifically designed for Statistical operation.\n",
    "    Apache Spark - It is used for processing large-scale data.\n",
    "    BigML"
   ]
  },
  {
   "cell_type": "markdown",
   "metadata": {},
   "source": [
    "Arithmetic Expression:\n",
    "\n",
    "    #Multiplication\n",
    "    \n",
    "    box = \"5*8\"\n",
    "    example = compile(box, \"<string>\",\"eval\")\n",
    "    result = eval(example)\n",
    "    #result:40\n",
    "    \n",
    "    \n",
    "    #Addition\n",
    "    \n",
    "    stor = \"3+2\"\n",
    "    example1 = compile(stor,\"<string>\",\"eval\")\n",
    "    result = eval(example1)\n",
    "    #result:5\n",
    "    \n",
    "    #Subraction\n",
    "    \n",
    "    cont = \"6 -1\"\n",
    "    example2 = compile(cont, \"<string>\", \"eval\")\n",
    "    result  = eval(example2)\n",
    "    #result:5"
   ]
  },
  {
   "cell_type": "code",
   "execution_count": 1,
   "metadata": {
    "tags": []
   },
   "outputs": [
    {
     "data": {
      "text/plain": [
       "25"
      ]
     },
     "execution_count": 1,
     "metadata": {},
     "output_type": "execute_result"
    }
   ],
   "source": [
    "#Multiplying and Adding\n",
    "\n",
    "(5*4)+5 \n",
    "#25"
   ]
  },
  {
   "cell_type": "code",
   "execution_count": null,
   "metadata": {},
   "outputs": [],
   "source": [
    "#Minutes to Hours\n",
    "\n",
    "Min = 100\n",
    "Hrs = Min // 60\n",
    "T = Min % 60\n",
    "print(f\"{Min} minute is equals to {Hrs} hours and {T} minutes\")\n",
    "\n"
   ]
  },
  {
   "cell_type": "markdown",
   "metadata": {},
   "source": [
    "Objectives\n",
    "\n",
    "    -The  programming Languages like Python,R,SQL are useful in Data Science fields for data analysis and training the model\n",
    "    -The libraries and tools such as Apache Spark, SAS are specifically useful in their own way supporting Data Science process "
   ]
  },
  {
   "cell_type": "markdown",
   "metadata": {},
   "source": [
    "Author: Germano Costa"
   ]
  }
 ],
 "metadata": {
  "kernelspec": {
   "display_name": "Python",
   "language": "python",
   "name": "conda-env-python-py"
  },
  "language_info": {
   "codemirror_mode": {
    "name": "ipython",
    "version": 3
   },
   "file_extension": ".py",
   "mimetype": "text/x-python",
   "name": "python",
   "nbconvert_exporter": "python",
   "pygments_lexer": "ipython3",
   "version": "3.7.12"
  }
 },
 "nbformat": 4,
 "nbformat_minor": 4
}
